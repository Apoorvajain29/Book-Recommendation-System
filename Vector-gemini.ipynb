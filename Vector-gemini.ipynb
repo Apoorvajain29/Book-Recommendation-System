{
 "cells": [
  {
   "cell_type": "code",
   "execution_count": null,
   "id": "initial_id",
   "metadata": {
    "collapsed": true
   },
   "outputs": [],
   "source": [
    ""
   ]
  },
  {
   "metadata": {
    "ExecuteTime": {
     "end_time": "2025-09-07T15:56:59.094092Z",
     "start_time": "2025-09-07T15:56:59.087938Z"
    }
   },
   "cell_type": "code",
   "source": [
    "# Install requirements if needed (uncomment below in Colab/Jupyter)\n",
    "# !pip install langchain langchain-community langchain-chroma pandas requests python-dotenv\n",
    "\n",
    "from dotenv import load_dotenv\n",
    "import os\n",
    "import pandas as pd\n",
    "import requests\n",
    "\n",
    "from langchain_community.document_loaders import TextLoader\n",
    "from langchain_text_splitters import CharacterTextSplitter\n",
    "from langchain_chroma import Chroma\n",
    "from langchain.embeddings.base import Embeddings\n",
    "from langchain_core.documents import Document\n",
    "\n"
   ],
   "id": "fb5ee4084790e111",
   "outputs": [],
   "execution_count": 3
  },
  {
   "metadata": {
    "ExecuteTime": {
     "end_time": "2025-09-07T15:57:15.467299Z",
     "start_time": "2025-09-07T15:57:15.460291Z"
    }
   },
   "cell_type": "code",
   "source": [
    "class GeminiEmbeddings(Embeddings):\n",
    "    def __init__(self, api_key=None):\n",
    "        self.api_key = api_key or os.getenv(\"GEMINI_API_KEY\")\n",
    "        self.url = \"https://generativelanguage.googleapis.com/v1beta/models/embedding-001:embedContent\"\n",
    "\n",
    "    def embed_documents(self, texts):\n",
    "        embeddings = []\n",
    "        for text in texts:\n",
    "            resp = requests.post(\n",
    "                self.url,\n",
    "                headers={\n",
    "                    \"x-goog-api-key\": self.api_key,\n",
    "                    \"Content-Type\": \"application/json\"\n",
    "                },\n",
    "                json={\n",
    "                    \"content\": {\n",
    "                        \"parts\": [{\"text\": text}]\n",
    "                    }\n",
    "                }\n",
    "            )\n",
    "            resp.raise_for_status()\n",
    "            data = resp.json()\n",
    "            # Gemini returns a list of embeddings under 'embedding'\n",
    "            embedding = data[\"embedding\"][\"values\"]\n",
    "            embeddings.append(embedding)\n",
    "        return embeddings\n",
    "\n",
    "    def embed_query(self, text):\n",
    "        return self.embed_documents([text])[0]\n"
   ],
   "id": "8f53adc75294305e",
   "outputs": [],
   "execution_count": 4
  },
  {
   "metadata": {
    "ExecuteTime": {
     "end_time": "2025-09-07T15:57:30.386408Z",
     "start_time": "2025-09-07T15:57:30.378797Z"
    }
   },
   "cell_type": "code",
   "source": [
    "# -- Load environment variables --\n",
    "load_dotenv()\n",
    "GEMINI_API_KEY = os.getenv(\"GEMINI_API_KEY\")\n",
    "assert GEMINI_API_KEY, \"Please set GEMINI_API_KEY in your .env file\"\n"
   ],
   "id": "ee0ae34c31e2653f",
   "outputs": [],
   "execution_count": 5
  },
  {
   "metadata": {
    "ExecuteTime": {
     "end_time": "2025-09-07T15:57:39.823832Z",
     "start_time": "2025-09-07T15:57:39.642447Z"
    }
   },
   "cell_type": "code",
   "source": [
    "# -- Data Load --\n",
    "books = pd.read_csv('books_cleaned.csv')\n"
   ],
   "id": "a9181ef1c5964742",
   "outputs": [],
   "execution_count": 6
  },
  {
   "metadata": {
    "ExecuteTime": {
     "end_time": "2025-09-07T15:57:50.105671Z",
     "start_time": "2025-09-07T15:57:50.047795Z"
    }
   },
   "cell_type": "code",
   "source": [
    "# -- Load documents and split --\n",
    "documents = []\n",
    "with open('tagged_description.txt', encoding='utf-8') as f:\n",
    "    for line in f:\n",
    "        line = line.strip()\n",
    "        if not line: continue\n",
    "        first_space = line.find(' ')\n",
    "        if first_space == -1: continue\n",
    "        isbn = line[:first_space].strip('\"')\n",
    "        description = line[first_space+1:].strip()\n",
    "        documents.append(Document(page_content=description, metadata={\"isbn13\": isbn}))\n"
   ],
   "id": "2513487cfa26e83e",
   "outputs": [],
   "execution_count": 7
  },
  {
   "metadata": {
    "ExecuteTime": {
     "end_time": "2025-09-07T16:29:42.661753Z",
     "start_time": "2025-09-07T16:29:42.478040Z"
    }
   },
   "cell_type": "code",
   "source": [
    "# Define the directory where the vector store will be saved\n",
    "persist_directory = \"./chroma_db\"\n",
    "\n",
    "# Check if the database already exists\n",
    "gemini_embeddings = GeminiEmbeddings(api_key=GEMINI_API_KEY)\n",
    "if os.path.exists(persist_directory):\n",
    "    # Load the existing database\n",
    "    print(\"Loading existing Chroma vector store...\")\n",
    "    db_books = Chroma(\n",
    "        persist_directory=persist_directory,\n",
    "        embedding_function=gemini_embeddings  # Pass the embedding function again\n",
    "    )\n",
    "    print(\"Chroma vector store loaded.\")\n",
    "else:\n",
    "    # Build the database from scratch and save it\n",
    "    print(\"Building and saving new Chroma vector store...\")\n",
    "    db_books = Chroma.from_documents(\n",
    "        documents,\n",
    "        embedding=gemini_embeddings,\n",
    "        persist_directory=persist_directory\n",
    "    )\n",
    "    print(\"Vector store built and saved.\")\n",
    "\n",
    "# -- Semantic Recommendation Function --\n",
    "# ... rest of your code"
   ],
   "id": "b6da0542f954dc05",
   "outputs": [
    {
     "name": "stdout",
     "output_type": "stream",
     "text": [
      "Loading existing Chroma vector store...\n",
      "Chroma vector store loaded.\n"
     ]
    }
   ],
   "execution_count": 18
  },
  {
   "metadata": {
    "ExecuteTime": {
     "end_time": "2025-09-07T16:38:42.064257Z",
     "start_time": "2025-09-07T16:36:57.021267Z"
    }
   },
   "cell_type": "code",
   "source": [
    "from langchain_community.embeddings import HuggingFaceEmbeddings\n",
    "\n",
    "huggingface_embeddings = HuggingFaceEmbeddings(model_name=\"sentence-transformers/all-MiniLM-L6-v2\")\n",
    "\n",
    "db_books = Chroma.from_documents(\n",
    "    documents,\n",
    "    embedding=huggingface_embeddings\n",
    ")"
   ],
   "id": "28770ad1fb3d0233",
   "outputs": [
    {
     "name": "stderr",
     "output_type": "stream",
     "text": [
      "C:\\Users\\Shree\\AppData\\Local\\Temp\\ipykernel_16948\\554976495.py:3: LangChainDeprecationWarning: The class `HuggingFaceEmbeddings` was deprecated in LangChain 0.2.2 and will be removed in 1.0. An updated version of the class exists in the :class:`~langchain-huggingface package and should be used instead. To use it run `pip install -U :class:`~langchain-huggingface` and import as `from :class:`~langchain_huggingface import HuggingFaceEmbeddings``.\n",
      "  huggingface_embeddings = HuggingFaceEmbeddings(model_name=\"sentence-transformers/all-MiniLM-L6-v2\")\n"
     ]
    }
   ],
   "execution_count": 27
  },
  {
   "metadata": {
    "ExecuteTime": {
     "end_time": "2025-09-07T16:39:42.147197Z",
     "start_time": "2025-09-07T16:39:42.084454Z"
    }
   },
   "cell_type": "code",
   "source": [
    "query = \"a book to teach children about nature\"\n",
    "\n",
    "docs = db_books.similarity_search(query, k=10)\n",
    "\n",
    "docs"
   ],
   "id": "e413c0eb8c7f18d1",
   "outputs": [
    {
     "data": {
      "text/plain": [
       "[Document(id='c3e1847f-60a8-43a8-9396-c93a85f2e1c7', metadata={'isbn13': '9780786808069'}, page_content='Children will discover the exciting world of their own backyard in this introduction to familiar animals from cats and dogs to bugs and frogs. The combination of photographs, illustrations, and fun facts make this an accessible and delightful learning experience.'),\n",
       " Document(id='8b718361-0a29-4cd0-ba99-cefe1879af75', metadata={'isbn13': '9780786808380'}, page_content=\"Introduce your babies to birds, cats, dogs, and babies through fine art, illustration, and photographs. These books are a rare opportunity to expose little ones to a range of images on a single subject, from simple child's drawings and abstract art to playful photos. A brief text accompanies each image, introducing the baby to some basic -- and sometimes playful -- information about the subjects.\"),\n",
       " Document(id='8ba991d2-de45-4c75-aab4-4d3ce702691a', metadata={'isbn13': '9780786808397'}, page_content=\"Introduce your baby to birds, cats, dogs, and babies through fine art, illustration, and photographs. These books are a rare opportunity to exopse little ones to a range of images on a single subject, from simple child's drawings and abstract art to playful photos. A brief text accompanies each image, introducing baby to some basic -- and sometimes playful -- information about the subjects.\"),\n",
       " Document(id='5d291824-c840-4bcd-9278-cb3289144552', metadata={'isbn13': '9780786808373'}, page_content=\"Introducing your baby to birds, cats, dogs, and babies through fine art, illsutration and photographs. These books are a rare opportunity to expose little ones to a range of images on a single subject, from simple child's drawings and abstract art to playful photos. A brief text accompanies each image, introducing baby to some basic -- and sometimes playful -- information on the subjects.\"),\n",
       " Document(id='d8f85214-cfba-4d90-8962-9310cb794f2a', metadata={'isbn13': '9780060959036'}, page_content=\"Barbara Kingsolver's fifth novel is a hymn to wildness that celebrates the prodigal spirit of human nature, and of nature itself. It weaves together three stories of human love within a larger tapestry of lives amid the mountains and farms of southern Appalachia. Over the course of one humid summer, this novel's intriguing protagonists face disparate predicaments but find connections to one another and to the flora and fauna with which they necessarily share a place.\"),\n",
       " Document(id='08f81bd3-e784-4433-a483-9983bec8f958', metadata={'isbn13': '9780374522599'}, page_content=\"The Control of Nature is John McPhee's bestselling account of places where people are locked in combat with nature. Taking us deep into these contested territories, McPhee details the strageties and tactics through which people attempt to control nature. Most striking is his depiction of the main contestants: nature in complex and awesome guises, and those attempting to wrest control from her - stubborn, sometimes foolhardy, more often ingenious, and always arresting characters.\"),\n",
       " Document(id='5391fa93-71dc-48b0-b9f7-6b4d15b50125', metadata={'isbn13': '9780064402453'}, page_content=\"‘Racso, a brash and boastful little rodent, is making his way to Thorn Valley, determined to learn how to read and write and become a hero. His bragging and lies get him off to a bad start, but a crisis gives him the opportunity to prove his mettle. A worthy successor [to Mrs. Frisby and the Rats of NIMH, a Newbery Medal winner by the author's father].' 'BL. 1986 Children's Editors' Choices (BL) Children's Choices for 1987 (IRA/CBC) Notable 1986 Childrens' Trade Books in Social Studies (NCSS/CBC) 1986 Children's Books (NY Public Library) Best Science Fiction/Fantasy 1986 (VOYA)\"),\n",
       " Document(id='81cbbec8-7708-4a6d-9a2b-be91907ec214', metadata={'isbn13': '9781593851170'}, page_content='\"\"Comprehensive and up to date, this tightly edited volume belongs on the desks of researchers and students in developmental psychology, comparative psychology, animal behavior, and evolutionary psychology, and will also be of interest to anthropologists. It is a richly informative text for advanced undergraduate- and graduate-level courses.\"\"--BOOK JACKET.\"'),\n",
       " Document(id='c71015f1-6008-4762-9adf-d219229c9ac5', metadata={'isbn13': '9780374422080'}, page_content='This Newbery Honor Book tells the story of 11 -year-old Primrose, who lives in a small fishing village in British Columbia. She recounts her experiences and all she learns about human nature and the unpredictability of life after her parents are lost at sea.'),\n",
       " Document(id='7b6899be-f649-4c37-9f17-786e08af700e', metadata={'isbn13': '9780786819119'}, page_content='Charming illustrations and playful rhythmic verse make real-life learning fun by taking babies and toddlers on an adventurous discovery of water and its many sources. Squeezable and floatable, Water, Water, Everywhere can be enjoyed in and out of the tub.')]"
      ]
     },
     "execution_count": 28,
     "metadata": {},
     "output_type": "execute_result"
    }
   ],
   "execution_count": 28
  },
  {
   "metadata": {
    "ExecuteTime": {
     "end_time": "2025-09-07T16:40:38.739790Z",
     "start_time": "2025-09-07T16:40:38.701845Z"
    }
   },
   "cell_type": "code",
   "source": [
    "# Correctly access the isbn13 from the metadata\n",
    "isbn_to_find = int(docs[0].metadata['isbn13'])\n",
    "\n",
    "# Filter the DataFrame using the correct ISBN from metadata\n",
    "books[books['isbn13'] == isbn_to_find]"
   ],
   "id": "a4c55d322a10d64a",
   "outputs": [
    {
     "data": {
      "text/plain": [
       "             isbn13      isbn10                                title  \\\n",
       "3747  9780786808069  0786808063  Baby Einstein: Neighborhood Animals   \n",
       "\n",
       "                                authors        categories  \\\n",
       "3747  Marilyn Singer;Julie Aigner-Clark  Juvenile Fiction   \n",
       "\n",
       "                                              thumbnail  \\\n",
       "3747  http://books.google.com/books/content?id=X9a4P...   \n",
       "\n",
       "                                            description  published_year  \\\n",
       "3747  Children will discover the exciting world of t...          2001.0   \n",
       "\n",
       "      average_rating  num_pages  ratings_count  \\\n",
       "3747            3.89       16.0          180.0   \n",
       "\n",
       "                       title_and_subtitle  \\\n",
       "3747  Baby Einstein: Neighborhood Animals   \n",
       "\n",
       "                                     tagged_description  \n",
       "3747  9780786808069 Children will discover the excit...  "
      ],
      "text/html": [
       "<div>\n",
       "<style scoped>\n",
       "    .dataframe tbody tr th:only-of-type {\n",
       "        vertical-align: middle;\n",
       "    }\n",
       "\n",
       "    .dataframe tbody tr th {\n",
       "        vertical-align: top;\n",
       "    }\n",
       "\n",
       "    .dataframe thead th {\n",
       "        text-align: right;\n",
       "    }\n",
       "</style>\n",
       "<table border=\"1\" class=\"dataframe\">\n",
       "  <thead>\n",
       "    <tr style=\"text-align: right;\">\n",
       "      <th></th>\n",
       "      <th>isbn13</th>\n",
       "      <th>isbn10</th>\n",
       "      <th>title</th>\n",
       "      <th>authors</th>\n",
       "      <th>categories</th>\n",
       "      <th>thumbnail</th>\n",
       "      <th>description</th>\n",
       "      <th>published_year</th>\n",
       "      <th>average_rating</th>\n",
       "      <th>num_pages</th>\n",
       "      <th>ratings_count</th>\n",
       "      <th>title_and_subtitle</th>\n",
       "      <th>tagged_description</th>\n",
       "    </tr>\n",
       "  </thead>\n",
       "  <tbody>\n",
       "    <tr>\n",
       "      <th>3747</th>\n",
       "      <td>9780786808069</td>\n",
       "      <td>0786808063</td>\n",
       "      <td>Baby Einstein: Neighborhood Animals</td>\n",
       "      <td>Marilyn Singer;Julie Aigner-Clark</td>\n",
       "      <td>Juvenile Fiction</td>\n",
       "      <td>http://books.google.com/books/content?id=X9a4P...</td>\n",
       "      <td>Children will discover the exciting world of t...</td>\n",
       "      <td>2001.0</td>\n",
       "      <td>3.89</td>\n",
       "      <td>16.0</td>\n",
       "      <td>180.0</td>\n",
       "      <td>Baby Einstein: Neighborhood Animals</td>\n",
       "      <td>9780786808069 Children will discover the excit...</td>\n",
       "    </tr>\n",
       "  </tbody>\n",
       "</table>\n",
       "</div>"
      ]
     },
     "execution_count": 30,
     "metadata": {},
     "output_type": "execute_result"
    }
   ],
   "execution_count": 30
  },
  {
   "metadata": {
    "ExecuteTime": {
     "end_time": "2025-09-07T16:41:59.381174Z",
     "start_time": "2025-09-07T16:41:59.375725Z"
    }
   },
   "cell_type": "code",
   "source": [
    "def retrieve_semantic_recommendation(\n",
    "        query: str,\n",
    "        top_k: int = 10,\n",
    ") -> pd.DataFrame:\n",
    "    recs = db_books.similarity_search(query, k=50)\n",
    "    books_list = []\n",
    "    \n",
    "    # Iterate through the recommended documents\n",
    "    for rec in recs:\n",
    "        # Correctly get the ISBN from the document's metadata\n",
    "        isbn = rec.metadata.get(\"isbn13\")\n",
    "        if isbn:\n",
    "            books_list.append(int(isbn))\n",
    "\n",
    "    # Convert the isbn13 column in your DataFrame to numeric\n",
    "    books[\"isbn13\"] = pd.to_numeric(books[\"isbn13\"], errors='coerce')\n",
    "    \n",
    "    # Filter the DataFrame based on the list of ISBNs\n",
    "    recommended_books_df = books[books[\"isbn13\"].isin(books_list)]\n",
    "    \n",
    "    return recommended_books_df.head(top_k)"
   ],
   "id": "7ee073f98db1abc4",
   "outputs": [],
   "execution_count": 33
  },
  {
   "metadata": {
    "ExecuteTime": {
     "end_time": "2025-09-07T16:42:01.110284Z",
     "start_time": "2025-09-07T16:42:01.045319Z"
    }
   },
   "cell_type": "code",
   "source": "retrieve_semantic_recommendation(\"A book with cats\")",
   "id": "81a853ba6d90e7d",
   "outputs": [
    {
     "data": {
      "text/plain": [
       "            isbn13      isbn10                                    title  \\\n",
       "161  9780060578121  0060578122                        Cat Breaking Free   \n",
       "203  9780060736255  0060736259                              Weetzie Bat   \n",
       "223  9780060775858  0060775858  Goodnight Moon 60th Anniversary Edition   \n",
       "226  9780060777333  0060777338                        The Cat's Pajamas   \n",
       "343  9780061015625  0061015628                        Cat Laughing Last   \n",
       "354  9780061056000  0061056006                          Cat on the Edge   \n",
       "355  9780061059476  0061059471                          Cat in the Dark   \n",
       "368  9780061127762  0061127760        Charlotte's Web Signature Edition   \n",
       "415  9780064406307  006440630X          The Midwife's Apprentice (rpkg)   \n",
       "433  9780064441766  0064441768                              Captain Cat   \n",
       "\n",
       "                     authors        categories  \\\n",
       "161  Shirley Rousseau Murphy           Fiction   \n",
       "203      Francesca Lia Block  Juvenile Fiction   \n",
       "223      Margaret Wise Brown  Juvenile Fiction   \n",
       "226             Ray Bradbury           Fiction   \n",
       "343  Shirley Rousseau Murphy           Fiction   \n",
       "354  Shirley Rousseau Murphy           Fiction   \n",
       "355  Shirley Rousseau Murphy           Fiction   \n",
       "368              E. B. White  Juvenile Fiction   \n",
       "415            Karen Cushman  Juvenile Fiction   \n",
       "433                 Syd Hoff  Juvenile Fiction   \n",
       "\n",
       "                                             thumbnail  \\\n",
       "161  http://books.google.com/books/content?id=-yFbm...   \n",
       "203  http://books.google.com/books/content?id=vxCXx...   \n",
       "223  http://books.google.com/books/content?id=lLYOr...   \n",
       "226  http://books.google.com/books/content?id=Xb6MU...   \n",
       "343  http://books.google.com/books/content?id=KwDSl...   \n",
       "354  http://books.google.com/books/content?id=G0yvy...   \n",
       "355  http://books.google.com/books/content?id=wz1vl...   \n",
       "368  http://books.google.com/books/content?id=oi9BP...   \n",
       "415  http://books.google.com/books/content?id=Bhm76...   \n",
       "433  http://books.google.com/books/content?id=sHz4s...   \n",
       "\n",
       "                                           description  published_year  \\\n",
       "161  The fur starts flying when a gang from L.A. co...          2006.0   \n",
       "203  Fifteen years ago Francesca Lia Block made a d...          2004.0   \n",
       "223  In a great green room, tucked away in bed, is ...          2005.0   \n",
       "226  From the winner of the National Book Foundatio...          2005.0   \n",
       "343  Fans of Lillian Jackson Braun and Rita Mae Bro...          2002.0   \n",
       "354  It's been quite a week for Joe Grey. First the...          1996.0   \n",
       "355  \"Of course I worry. What if the cops witness a...          1999.0   \n",
       "368  This is the story of a little girl named Fern ...          2006.0   \n",
       "415  'Like Cushman's 1995 Newbery Honor Book, Cathe...          1996.0   \n",
       "433  A patriotic feline, Captain Cat springs out of...          1994.0   \n",
       "\n",
       "     average_rating  num_pages  ratings_count  \\\n",
       "161            4.20      375.0          204.0   \n",
       "203            3.74      128.0        12771.0   \n",
       "223            4.27       32.0       264013.0   \n",
       "226            3.73      234.0         1316.0   \n",
       "343            4.21      368.0          638.0   \n",
       "354            3.90      274.0         1855.0   \n",
       "355            4.25      320.0          696.0   \n",
       "368            4.16      224.0          226.0   \n",
       "415            3.72      128.0        35319.0   \n",
       "433            3.66       48.0          107.0   \n",
       "\n",
       "                          title_and_subtitle  \\\n",
       "161   Cat Breaking Free : A Joe Grey Mystery   \n",
       "203                              Weetzie Bat   \n",
       "223  Goodnight Moon 60th Anniversary Edition   \n",
       "226              The Cat's Pajamas : Stories   \n",
       "343   Cat Laughing Last : A Joe Grey Mystery   \n",
       "354     Cat on the Edge : A Joe Grey Mystery   \n",
       "355     Cat in the Dark : A Joe Grey Mystery   \n",
       "368        Charlotte's Web Signature Edition   \n",
       "415          The Midwife's Apprentice (rpkg)   \n",
       "433                              Captain Cat   \n",
       "\n",
       "                                    tagged_description  \n",
       "161  9780060578121 The fur starts flying when a gan...  \n",
       "203  9780060736255 Fifteen years ago Francesca Lia ...  \n",
       "223  9780060775858 In a great green room, tucked aw...  \n",
       "226  9780060777333 From the winner of the National ...  \n",
       "343  9780061015625 Fans of Lillian Jackson Braun an...  \n",
       "354  9780061056000 It's been quite a week for Joe G...  \n",
       "355  9780061059476 \"Of course I worry. What if the ...  \n",
       "368  9780061127762 This is the story of a little gi...  \n",
       "415  9780064406307 'Like Cushman's 1995 Newbery Hon...  \n",
       "433  9780064441766 A patriotic feline, Captain Cat ...  "
      ],
      "text/html": [
       "<div>\n",
       "<style scoped>\n",
       "    .dataframe tbody tr th:only-of-type {\n",
       "        vertical-align: middle;\n",
       "    }\n",
       "\n",
       "    .dataframe tbody tr th {\n",
       "        vertical-align: top;\n",
       "    }\n",
       "\n",
       "    .dataframe thead th {\n",
       "        text-align: right;\n",
       "    }\n",
       "</style>\n",
       "<table border=\"1\" class=\"dataframe\">\n",
       "  <thead>\n",
       "    <tr style=\"text-align: right;\">\n",
       "      <th></th>\n",
       "      <th>isbn13</th>\n",
       "      <th>isbn10</th>\n",
       "      <th>title</th>\n",
       "      <th>authors</th>\n",
       "      <th>categories</th>\n",
       "      <th>thumbnail</th>\n",
       "      <th>description</th>\n",
       "      <th>published_year</th>\n",
       "      <th>average_rating</th>\n",
       "      <th>num_pages</th>\n",
       "      <th>ratings_count</th>\n",
       "      <th>title_and_subtitle</th>\n",
       "      <th>tagged_description</th>\n",
       "    </tr>\n",
       "  </thead>\n",
       "  <tbody>\n",
       "    <tr>\n",
       "      <th>161</th>\n",
       "      <td>9780060578121</td>\n",
       "      <td>0060578122</td>\n",
       "      <td>Cat Breaking Free</td>\n",
       "      <td>Shirley Rousseau Murphy</td>\n",
       "      <td>Fiction</td>\n",
       "      <td>http://books.google.com/books/content?id=-yFbm...</td>\n",
       "      <td>The fur starts flying when a gang from L.A. co...</td>\n",
       "      <td>2006.0</td>\n",
       "      <td>4.20</td>\n",
       "      <td>375.0</td>\n",
       "      <td>204.0</td>\n",
       "      <td>Cat Breaking Free : A Joe Grey Mystery</td>\n",
       "      <td>9780060578121 The fur starts flying when a gan...</td>\n",
       "    </tr>\n",
       "    <tr>\n",
       "      <th>203</th>\n",
       "      <td>9780060736255</td>\n",
       "      <td>0060736259</td>\n",
       "      <td>Weetzie Bat</td>\n",
       "      <td>Francesca Lia Block</td>\n",
       "      <td>Juvenile Fiction</td>\n",
       "      <td>http://books.google.com/books/content?id=vxCXx...</td>\n",
       "      <td>Fifteen years ago Francesca Lia Block made a d...</td>\n",
       "      <td>2004.0</td>\n",
       "      <td>3.74</td>\n",
       "      <td>128.0</td>\n",
       "      <td>12771.0</td>\n",
       "      <td>Weetzie Bat</td>\n",
       "      <td>9780060736255 Fifteen years ago Francesca Lia ...</td>\n",
       "    </tr>\n",
       "    <tr>\n",
       "      <th>223</th>\n",
       "      <td>9780060775858</td>\n",
       "      <td>0060775858</td>\n",
       "      <td>Goodnight Moon 60th Anniversary Edition</td>\n",
       "      <td>Margaret Wise Brown</td>\n",
       "      <td>Juvenile Fiction</td>\n",
       "      <td>http://books.google.com/books/content?id=lLYOr...</td>\n",
       "      <td>In a great green room, tucked away in bed, is ...</td>\n",
       "      <td>2005.0</td>\n",
       "      <td>4.27</td>\n",
       "      <td>32.0</td>\n",
       "      <td>264013.0</td>\n",
       "      <td>Goodnight Moon 60th Anniversary Edition</td>\n",
       "      <td>9780060775858 In a great green room, tucked aw...</td>\n",
       "    </tr>\n",
       "    <tr>\n",
       "      <th>226</th>\n",
       "      <td>9780060777333</td>\n",
       "      <td>0060777338</td>\n",
       "      <td>The Cat's Pajamas</td>\n",
       "      <td>Ray Bradbury</td>\n",
       "      <td>Fiction</td>\n",
       "      <td>http://books.google.com/books/content?id=Xb6MU...</td>\n",
       "      <td>From the winner of the National Book Foundatio...</td>\n",
       "      <td>2005.0</td>\n",
       "      <td>3.73</td>\n",
       "      <td>234.0</td>\n",
       "      <td>1316.0</td>\n",
       "      <td>The Cat's Pajamas : Stories</td>\n",
       "      <td>9780060777333 From the winner of the National ...</td>\n",
       "    </tr>\n",
       "    <tr>\n",
       "      <th>343</th>\n",
       "      <td>9780061015625</td>\n",
       "      <td>0061015628</td>\n",
       "      <td>Cat Laughing Last</td>\n",
       "      <td>Shirley Rousseau Murphy</td>\n",
       "      <td>Fiction</td>\n",
       "      <td>http://books.google.com/books/content?id=KwDSl...</td>\n",
       "      <td>Fans of Lillian Jackson Braun and Rita Mae Bro...</td>\n",
       "      <td>2002.0</td>\n",
       "      <td>4.21</td>\n",
       "      <td>368.0</td>\n",
       "      <td>638.0</td>\n",
       "      <td>Cat Laughing Last : A Joe Grey Mystery</td>\n",
       "      <td>9780061015625 Fans of Lillian Jackson Braun an...</td>\n",
       "    </tr>\n",
       "    <tr>\n",
       "      <th>354</th>\n",
       "      <td>9780061056000</td>\n",
       "      <td>0061056006</td>\n",
       "      <td>Cat on the Edge</td>\n",
       "      <td>Shirley Rousseau Murphy</td>\n",
       "      <td>Fiction</td>\n",
       "      <td>http://books.google.com/books/content?id=G0yvy...</td>\n",
       "      <td>It's been quite a week for Joe Grey. First the...</td>\n",
       "      <td>1996.0</td>\n",
       "      <td>3.90</td>\n",
       "      <td>274.0</td>\n",
       "      <td>1855.0</td>\n",
       "      <td>Cat on the Edge : A Joe Grey Mystery</td>\n",
       "      <td>9780061056000 It's been quite a week for Joe G...</td>\n",
       "    </tr>\n",
       "    <tr>\n",
       "      <th>355</th>\n",
       "      <td>9780061059476</td>\n",
       "      <td>0061059471</td>\n",
       "      <td>Cat in the Dark</td>\n",
       "      <td>Shirley Rousseau Murphy</td>\n",
       "      <td>Fiction</td>\n",
       "      <td>http://books.google.com/books/content?id=wz1vl...</td>\n",
       "      <td>\"Of course I worry. What if the cops witness a...</td>\n",
       "      <td>1999.0</td>\n",
       "      <td>4.25</td>\n",
       "      <td>320.0</td>\n",
       "      <td>696.0</td>\n",
       "      <td>Cat in the Dark : A Joe Grey Mystery</td>\n",
       "      <td>9780061059476 \"Of course I worry. What if the ...</td>\n",
       "    </tr>\n",
       "    <tr>\n",
       "      <th>368</th>\n",
       "      <td>9780061127762</td>\n",
       "      <td>0061127760</td>\n",
       "      <td>Charlotte's Web Signature Edition</td>\n",
       "      <td>E. B. White</td>\n",
       "      <td>Juvenile Fiction</td>\n",
       "      <td>http://books.google.com/books/content?id=oi9BP...</td>\n",
       "      <td>This is the story of a little girl named Fern ...</td>\n",
       "      <td>2006.0</td>\n",
       "      <td>4.16</td>\n",
       "      <td>224.0</td>\n",
       "      <td>226.0</td>\n",
       "      <td>Charlotte's Web Signature Edition</td>\n",
       "      <td>9780061127762 This is the story of a little gi...</td>\n",
       "    </tr>\n",
       "    <tr>\n",
       "      <th>415</th>\n",
       "      <td>9780064406307</td>\n",
       "      <td>006440630X</td>\n",
       "      <td>The Midwife's Apprentice (rpkg)</td>\n",
       "      <td>Karen Cushman</td>\n",
       "      <td>Juvenile Fiction</td>\n",
       "      <td>http://books.google.com/books/content?id=Bhm76...</td>\n",
       "      <td>'Like Cushman's 1995 Newbery Honor Book, Cathe...</td>\n",
       "      <td>1996.0</td>\n",
       "      <td>3.72</td>\n",
       "      <td>128.0</td>\n",
       "      <td>35319.0</td>\n",
       "      <td>The Midwife's Apprentice (rpkg)</td>\n",
       "      <td>9780064406307 'Like Cushman's 1995 Newbery Hon...</td>\n",
       "    </tr>\n",
       "    <tr>\n",
       "      <th>433</th>\n",
       "      <td>9780064441766</td>\n",
       "      <td>0064441768</td>\n",
       "      <td>Captain Cat</td>\n",
       "      <td>Syd Hoff</td>\n",
       "      <td>Juvenile Fiction</td>\n",
       "      <td>http://books.google.com/books/content?id=sHz4s...</td>\n",
       "      <td>A patriotic feline, Captain Cat springs out of...</td>\n",
       "      <td>1994.0</td>\n",
       "      <td>3.66</td>\n",
       "      <td>48.0</td>\n",
       "      <td>107.0</td>\n",
       "      <td>Captain Cat</td>\n",
       "      <td>9780064441766 A patriotic feline, Captain Cat ...</td>\n",
       "    </tr>\n",
       "  </tbody>\n",
       "</table>\n",
       "</div>"
      ]
     },
     "execution_count": 34,
     "metadata": {},
     "output_type": "execute_result"
    }
   ],
   "execution_count": 34
  },
  {
   "metadata": {},
   "cell_type": "code",
   "outputs": [],
   "execution_count": null,
   "source": "",
   "id": "6076731e18d21621"
  }
 ],
 "metadata": {
  "kernelspec": {
   "display_name": "Python 3",
   "language": "python",
   "name": "python3"
  },
  "language_info": {
   "codemirror_mode": {
    "name": "ipython",
    "version": 2
   },
   "file_extension": ".py",
   "mimetype": "text/x-python",
   "name": "python",
   "nbconvert_exporter": "python",
   "pygments_lexer": "ipython2",
   "version": "2.7.6"
  }
 },
 "nbformat": 4,
 "nbformat_minor": 5
}
